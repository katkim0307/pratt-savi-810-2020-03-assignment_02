{
 "cells": [
  {
   "cell_type": "markdown",
   "metadata": {},
   "source": [
    "# Assignment 02\n",
    "\n",
    "\n",
    "![http://www.pratt.edu/tiny_mce/plugins/imagemanager/files/Light_brown_blue22.jpg](http://www.pratt.edu/tiny_mce/plugins/imagemanager/files/Light_brown_blue22.jpg)"
   ]
  },
  {
   "cell_type": "markdown",
   "metadata": {
    "toc": true
   },
   "source": [
    "<h1>Table of Contents<span class=\"tocSkip\"></span></h1>\n",
    "<div class=\"toc\"><ul class=\"toc-item\"><li><span><a href=\"#Assignment-02\" data-toc-modified-id=\"Assignment-02-1\">Assignment 02</a></span><ul class=\"toc-item\"><li><span><a href=\"#Instructions\" data-toc-modified-id=\"Instructions-1.1\">Instructions</a></span></li></ul></li><li><span><a href=\"#Import-Libraries\" data-toc-modified-id=\"Import-Libraries-2\">Import Libraries</a></span></li><li><span><a href=\"#Collect-the-Necessary-Data\" data-toc-modified-id=\"Collect-the-Necessary-Data-3\">Collect the Necessary Data</a></span><ul class=\"toc-item\"><li><span><a href=\"#Hospitals-Data\" data-toc-modified-id=\"Hospitals-Data-3.1\">Hospitals Data</a></span><ul class=\"toc-item\"><li><ul class=\"toc-item\"><li><span><a href=\"#Load-this-file-into-a-GeoDataFrame\" data-toc-modified-id=\"Load-this-file-into-a-GeoDataFrame-3.1.0.1\">Load this file into a GeoDataFrame</a></span></li><li><span><a href=\"#Check-the-first-3-rows-(aka-the-head())-of-the-DataFrame\" data-toc-modified-id=\"Check-the-first-3-rows-(aka-the-head())-of-the-DataFrame-3.1.0.2\">Check the first 3 rows (aka the head()) of the DataFrame</a></span></li><li><span><a href=\"#Query-the-Hospitals-GeoDataFrame-to-only-include-NY-State-Hospitals.\" data-toc-modified-id=\"Query-the-Hospitals-GeoDataFrame-to-only-include-NY-State-Hospitals.-3.1.0.3\">Query the Hospitals GeoDataFrame to only include NY State Hospitals.</a></span></li><li><span><a href=\"#Next-let's-Query-only-include-Hospitals-in-New-York-City-Counties\" data-toc-modified-id=\"Next-let's-Query-only-include-Hospitals-in-New-York-City-Counties-3.1.0.4\">Next let's Query only include Hospitals in New York City Counties</a></span></li><li><span><a href=\"#Check-the-first-3-rows-(aka-the-head())-of-the-DataFrame\" data-toc-modified-id=\"Check-the-first-3-rows-(aka-the-head())-of-the-DataFrame-3.1.0.5\">Check the first 3 rows (aka the head()) of the DataFrame</a></span></li><li><span><a href=\"#You've-been-supplied-code-to-reclass--999-Missing-Values-to-Null\" data-toc-modified-id=\"You've-been-supplied-code-to-reclass--999-Missing-Values-to-Null-3.1.0.6\">You've been supplied code to reclass -999 Missing Values to Null</a></span></li><li><span><a href=\"#Plot-the-Distribution-of-NYC-Hospital-Beds-in-a-Histogram-Plot\" data-toc-modified-id=\"Plot-the-Distribution-of-NYC-Hospital-Beds-in-a-Histogram-Plot-3.1.0.7\">Plot the Distribution of NYC Hospital Beds in a Histogram Plot</a></span></li><li><span><a href=\"#Do-a-quick-GeoDataFrame-Map--.plot()-to-see-our-the-spatial-distribution-of-our-data\" data-toc-modified-id=\"Do-a-quick-GeoDataFrame-Map--.plot()-to-see-our-the-spatial-distribution-of-our-data-3.1.0.8\">Do a quick GeoDataFrame Map  <code>.plot()</code> to see our the spatial distribution of our data</a></span></li><li><span><a href=\"#We'll-use-our-boro_data-Dictionary-from-Assignment-01\" data-toc-modified-id=\"We'll-use-our-boro_data-Dictionary-from-Assignment-01-3.1.0.9\">We'll use our <code>boro_data</code> Dictionary from Assignment 01</a></span></li><li><span><a href=\"#Let's-check-out-boro_df\" data-toc-modified-id=\"Let's-check-out-boro_df-3.1.0.10\">Let's check out <code>boro_df</code></a></span></li><li><span><a href=\"#Run-a-.merge()-to-add-the-boro_df-data-to-the-nyc_hospitals-GeoDataFrame\" data-toc-modified-id=\"Run-a-.merge()-to-add-the-boro_df-data-to-the-nyc_hospitals-GeoDataFrame-3.1.0.11\">Run a <code>.merge()</code> to add the <code>boro_df</code> data to the <code>nyc_hospitals</code> GeoDataFrame</a></span></li><li><span><a href=\"#Display-the-first-10-rows-of-the-GeoDataFrame-.head(...-hint,-n=)\" data-toc-modified-id=\"Display-the-first-10-rows-of-the-GeoDataFrame-.head(...-hint,-n=)-3.1.0.12\">Display the first 10 rows of the GeoDataFrame <code>.head(... hint, n=)</code></a></span></li><li><span><a href=\"#Groupby-and-Sum-the-BEDS-variable\" data-toc-modified-id=\"Groupby-and-Sum-the-BEDS-variable-3.1.0.13\">Groupby and Sum the BEDS variable</a></span></li><li><span><a href=\"#Display-the-.head()-of-grouped\" data-toc-modified-id=\"Display-the-.head()-of-grouped-3.1.0.14\">Display the <code>.head()</code> of <code>grouped</code></a></span></li><li><span><a href=\"#Create-a-new-column-called-boro_pop_per_hosp_bed.\" data-toc-modified-id=\"Create-a-new-column-called-boro_pop_per_hosp_bed.-3.1.0.15\">Create a new column called <code>boro_pop_per_hosp_bed</code>.</a></span></li><li><span><a href=\"#This-column-will-be-the-Calculation-of-Population-/-Beds--(-/-meaning-divided-by)\" data-toc-modified-id=\"This-column-will-be-the-Calculation-of-Population-/-Beds--(-/-meaning-divided-by)-3.1.0.16\">This column will be the Calculation of Population / Beds  ( / meaning divided by)</a></span></li><li><span><a href=\"#Display-the-.head()-of-grouped-DataFrame-to-check-our-results\" data-toc-modified-id=\"Display-the-.head()-of-grouped-DataFrame-to-check-our-results-3.1.0.17\">Display the <code>.head()</code> of <code>grouped</code> DataFrame to check our results</a></span></li><li><span><a href=\"#Plot-a-bar-chart-showing-Borough-Population-per-Hospital-Bed\" data-toc-modified-id=\"Plot-a-bar-chart-showing-Borough-Population-per-Hospital-Bed-3.1.0.18\">Plot a bar chart showing Borough Population per Hospital Bed</a></span></li></ul></li></ul></li></ul></li><li><span><a href=\"#Map-our-Final-Results\" data-toc-modified-id=\"Map-our-Final-Results-4\">Map our Final Results</a></span><ul class=\"toc-item\"><li><ul class=\"toc-item\"><li><ul class=\"toc-item\"><li><span><a href=\"#Read-in-boro_geojso_link-as-GeoDataFrame-called-boro\" data-toc-modified-id=\"Read-in-boro_geojso_link-as-GeoDataFrame-called-boro-4.0.0.1\">Read in <code>boro_geojso_link</code> as GeoDataFrame called <code>boro</code></a></span></li><li><span><a href=\"#Merge-boro-to-grouped-on-boro_code-with-a-'left'-as-how=\" data-toc-modified-id=\"Merge-boro-to-grouped-on-boro_code-with-a-'left'-as-how=-4.0.0.2\">Merge <code>boro</code> to <code>grouped</code> on <code>boro_code</code> with a 'left' as <code>how=</code></a></span></li></ul></li></ul></li></ul></li></ul></div>"
   ]
  },
  {
   "cell_type": "markdown",
   "metadata": {},
   "source": [
    "## Instructions\n",
    "\n",
    "---\n",
    "\n",
    "You are a new hire in NYC Government's new Department of Geospatial Technology. Your manager has asked you to complete the following assignment.\n",
    "\n",
    "The Mayor of the City of New York and the Governor of New York State have tasked your team in evaluating the **number of hospital beds** per **population** by **borough**. "
   ]
  },
  {
   "cell_type": "markdown",
   "metadata": {},
   "source": [
    "# Import Libraries\n",
    "The libraries required for this assignment are imported for you below."
   ]
  },
  {
   "cell_type": "code",
   "execution_count": 1,
   "metadata": {},
   "outputs": [],
   "source": [
    "import pandas as pd\n",
    "import geopandas as gpd \n",
    "import numpy as np\n",
    "import matplotlib.pyplot as plt"
   ]
  },
  {
   "cell_type": "code",
   "execution_count": 2,
   "metadata": {},
   "outputs": [],
   "source": [
    "%matplotlib inline"
   ]
  },
  {
   "cell_type": "code",
   "execution_count": 3,
   "metadata": {},
   "outputs": [],
   "source": [
    "plt.style.use('ggplot')  # we're going to use ggplot styled plots"
   ]
  },
  {
   "cell_type": "markdown",
   "metadata": {},
   "source": [
    "# Collect the Necessary Data"
   ]
  },
  {
   "cell_type": "markdown",
   "metadata": {},
   "source": [
    "## Hospitals Data\n",
    "\n",
    "You've been supplied the url for the Hospitals Data to use. Run the cell below. "
   ]
  },
  {
   "cell_type": "code",
   "execution_count": 4,
   "metadata": {},
   "outputs": [],
   "source": [
    "geojson_link = 'https://opendata.arcgis.com/datasets/6ac5e325468c4cb9b905f1728d6fbf0f_0.geojson'"
   ]
  },
  {
   "cell_type": "markdown",
   "metadata": {},
   "source": [
    "#### Load this file into a GeoDataFrame\n",
    "See **Lesson 03 GeoPandas section** for reference. \n",
    "\n",
    "You're being asking to load the GeoDataFrame as a variable named `gdf`. \n",
    "\n",
    "```python\n",
    "\n",
    "gdf = # \"read\" the \"file\" - file being the .geoson link above\n",
    "\n",
    "```"
   ]
  },
  {
   "cell_type": "code",
   "execution_count": 5,
   "metadata": {},
   "outputs": [],
   "source": [
    "### your code here\n",
    "gdf = gpd.read_file(geojson_link)"
   ]
  },
  {
   "cell_type": "markdown",
   "metadata": {},
   "source": [
    "#### Check the first 3 rows (aka the head()) of the DataFrame "
   ]
  },
  {
   "cell_type": "code",
   "execution_count": 6,
   "metadata": {},
   "outputs": [
    {
     "data": {
      "text/html": [
       "<div>\n",
       "<style scoped>\n",
       "    .dataframe tbody tr th:only-of-type {\n",
       "        vertical-align: middle;\n",
       "    }\n",
       "\n",
       "    .dataframe tbody tr th {\n",
       "        vertical-align: top;\n",
       "    }\n",
       "\n",
       "    .dataframe thead th {\n",
       "        text-align: right;\n",
       "    }\n",
       "</style>\n",
       "<table border=\"1\" class=\"dataframe\">\n",
       "  <thead>\n",
       "    <tr style=\"text-align: right;\">\n",
       "      <th></th>\n",
       "      <th>OBJECTID</th>\n",
       "      <th>ID</th>\n",
       "      <th>NAME</th>\n",
       "      <th>ADDRESS</th>\n",
       "      <th>CITY</th>\n",
       "      <th>STATE</th>\n",
       "      <th>ZIP</th>\n",
       "      <th>ZIP4</th>\n",
       "      <th>TELEPHONE</th>\n",
       "      <th>TYPE</th>\n",
       "      <th>...</th>\n",
       "      <th>WEBSITE</th>\n",
       "      <th>STATE_ID</th>\n",
       "      <th>ALT_NAME</th>\n",
       "      <th>ST_FIPS</th>\n",
       "      <th>OWNER</th>\n",
       "      <th>TTL_STAFF</th>\n",
       "      <th>BEDS</th>\n",
       "      <th>TRAUMA</th>\n",
       "      <th>HELIPAD</th>\n",
       "      <th>geometry</th>\n",
       "    </tr>\n",
       "  </thead>\n",
       "  <tbody>\n",
       "    <tr>\n",
       "      <th>0</th>\n",
       "      <td>7001</td>\n",
       "      <td>0003829406</td>\n",
       "      <td>HEALTHSOUTH REHABILITATION HOSPITAL OF CHARLESTON</td>\n",
       "      <td>9181 MEDCOM ST</td>\n",
       "      <td>NORTH CHARLESTON</td>\n",
       "      <td>SC</td>\n",
       "      <td>29406</td>\n",
       "      <td>NOT AVAILABLE</td>\n",
       "      <td>(843) 820-7762</td>\n",
       "      <td>REHABILITATION</td>\n",
       "      <td>...</td>\n",
       "      <td>http://www.healthsouthcharleston.com</td>\n",
       "      <td>38784738</td>\n",
       "      <td>NOT AVAILABLE</td>\n",
       "      <td>45</td>\n",
       "      <td>PROPRIETARY</td>\n",
       "      <td>-999</td>\n",
       "      <td>46</td>\n",
       "      <td>NOT AVAILABLE</td>\n",
       "      <td>N</td>\n",
       "      <td>POINT (-80.06998 32.97580)</td>\n",
       "    </tr>\n",
       "    <tr>\n",
       "      <th>1</th>\n",
       "      <td>7002</td>\n",
       "      <td>0011029303</td>\n",
       "      <td>SPARTANBURG REHABILITATION INSTITUTE</td>\n",
       "      <td>160 HAROLD FLEMING CT</td>\n",
       "      <td>SPARTANBURG</td>\n",
       "      <td>SC</td>\n",
       "      <td>29303</td>\n",
       "      <td>4226</td>\n",
       "      <td>(864) 594-9600</td>\n",
       "      <td>REHABILITATION</td>\n",
       "      <td>...</td>\n",
       "      <td>http://sri.ernesthealth.com/</td>\n",
       "      <td>NOT AVAILABLE</td>\n",
       "      <td>NOT AVAILABLE</td>\n",
       "      <td>45</td>\n",
       "      <td>PROPRIETARY</td>\n",
       "      <td>-999</td>\n",
       "      <td>40</td>\n",
       "      <td>NOT AVAILABLE</td>\n",
       "      <td>N</td>\n",
       "      <td>POINT (-81.94246 34.98966)</td>\n",
       "    </tr>\n",
       "    <tr>\n",
       "      <th>2</th>\n",
       "      <td>7003</td>\n",
       "      <td>0002929505</td>\n",
       "      <td>WOMEN'S CENTER OF CAROLINAS HOSPITAL SYSTEM</td>\n",
       "      <td>1590 FREEDOM BLVD</td>\n",
       "      <td>FLORENCE</td>\n",
       "      <td>SC</td>\n",
       "      <td>29505</td>\n",
       "      <td>NOT AVAILABLE</td>\n",
       "      <td>(843) 674-2500</td>\n",
       "      <td>WOMEN</td>\n",
       "      <td>...</td>\n",
       "      <td>http://www.carolinashospital.com</td>\n",
       "      <td>38784564</td>\n",
       "      <td>NOT AVAILABLE</td>\n",
       "      <td>45</td>\n",
       "      <td>PROPRIETARY</td>\n",
       "      <td>-999</td>\n",
       "      <td>20</td>\n",
       "      <td>NOT AVAILABLE</td>\n",
       "      <td>Y</td>\n",
       "      <td>POINT (-79.75312 34.16142)</td>\n",
       "    </tr>\n",
       "  </tbody>\n",
       "</table>\n",
       "<p>3 rows × 33 columns</p>\n",
       "</div>"
      ],
      "text/plain": [
       "   OBJECTID          ID                                               NAME  \\\n",
       "0      7001  0003829406  HEALTHSOUTH REHABILITATION HOSPITAL OF CHARLESTON   \n",
       "1      7002  0011029303               SPARTANBURG REHABILITATION INSTITUTE   \n",
       "2      7003  0002929505        WOMEN'S CENTER OF CAROLINAS HOSPITAL SYSTEM   \n",
       "\n",
       "                 ADDRESS              CITY STATE    ZIP           ZIP4  \\\n",
       "0         9181 MEDCOM ST  NORTH CHARLESTON    SC  29406  NOT AVAILABLE   \n",
       "1  160 HAROLD FLEMING CT       SPARTANBURG    SC  29303           4226   \n",
       "2      1590 FREEDOM BLVD          FLORENCE    SC  29505  NOT AVAILABLE   \n",
       "\n",
       "        TELEPHONE            TYPE  ...                               WEBSITE  \\\n",
       "0  (843) 820-7762  REHABILITATION  ...  http://www.healthsouthcharleston.com   \n",
       "1  (864) 594-9600  REHABILITATION  ...          http://sri.ernesthealth.com/   \n",
       "2  (843) 674-2500           WOMEN  ...      http://www.carolinashospital.com   \n",
       "\n",
       "        STATE_ID       ALT_NAME ST_FIPS        OWNER  TTL_STAFF  BEDS  \\\n",
       "0       38784738  NOT AVAILABLE      45  PROPRIETARY       -999    46   \n",
       "1  NOT AVAILABLE  NOT AVAILABLE      45  PROPRIETARY       -999    40   \n",
       "2       38784564  NOT AVAILABLE      45  PROPRIETARY       -999    20   \n",
       "\n",
       "          TRAUMA HELIPAD                    geometry  \n",
       "0  NOT AVAILABLE       N  POINT (-80.06998 32.97580)  \n",
       "1  NOT AVAILABLE       N  POINT (-81.94246 34.98966)  \n",
       "2  NOT AVAILABLE       Y  POINT (-79.75312 34.16142)  \n",
       "\n",
       "[3 rows x 33 columns]"
      ]
     },
     "execution_count": 6,
     "metadata": {},
     "output_type": "execute_result"
    }
   ],
   "source": [
    "### your code here\n",
    "gdf.head(3)"
   ]
  },
  {
   "cell_type": "code",
   "execution_count": 7,
   "metadata": {},
   "outputs": [
    {
     "data": {
      "text/plain": [
       "(7581, 33)"
      ]
     },
     "execution_count": 7,
     "metadata": {},
     "output_type": "execute_result"
    }
   ],
   "source": [
    "gdf.shape"
   ]
  },
  {
   "cell_type": "markdown",
   "metadata": {},
   "source": [
    "#### Query the Hospitals GeoDataFrame to only include NY State Hospitals. "
   ]
  },
  {
   "cell_type": "code",
   "execution_count": 8,
   "metadata": {},
   "outputs": [],
   "source": [
    "ny_state_hospitals = gdf[\n",
    "    gdf['STATE'] == 'NY'  ### only spot to put code\n",
    "    # enter your code above, the string of our query for New York State\n",
    "]"
   ]
  },
  {
   "cell_type": "code",
   "execution_count": 9,
   "metadata": {},
   "outputs": [
    {
     "data": {
      "text/plain": [
       "(277, 33)"
      ]
     },
     "execution_count": 9,
     "metadata": {},
     "output_type": "execute_result"
    }
   ],
   "source": [
    "ny_state_hospitals.shape"
   ]
  },
  {
   "cell_type": "markdown",
   "metadata": {},
   "source": [
    "#### Next let's Query only include Hospitals in New York City Counties\n",
    "\n",
    "There are five (5) counties in New York City. They have FIPS codes. So we want to select from the following county FIPS codes:\n",
    "\n",
    "* 36081\n",
    "* 36061\n",
    "* 36085\n",
    "* 36047\n",
    "* 36005\n",
    "\n",
    "You'll need to use the \"OR\" statement in your query `|`, you've been provided most of the code, but you need to enter the strings into the query. "
   ]
  },
  {
   "cell_type": "code",
   "execution_count": 10,
   "metadata": {},
   "outputs": [],
   "source": [
    "nyc_hospitals = ny_state_hospitals[ \n",
    "    (\n",
    "        (ny_state_hospitals['COUNTYFIPS'] == '36081') | # <place FIPS codes here>\n",
    "        (ny_state_hospitals['COUNTYFIPS'] == '36061') |  # <place FIPS codes here>\n",
    "        (ny_state_hospitals['COUNTYFIPS'] == '36085') |  # <place FIPS codes here>\n",
    "        (ny_state_hospitals['COUNTYFIPS'] == '36047') |  # <place FIPS codes here>\n",
    "        (ny_state_hospitals['COUNTYFIPS'] == '36005')    # <place FIPS codes here>\n",
    "    )  \n",
    "    # enter your code above, the string of our query for NYC Counties.\n",
    "    \n",
    "] # selects only nyc counties hospitals, creates new dataframe"
   ]
  },
  {
   "cell_type": "markdown",
   "metadata": {},
   "source": [
    "#### Check the first 3 rows (aka the head()) of the DataFrame "
   ]
  },
  {
   "cell_type": "code",
   "execution_count": 11,
   "metadata": {
    "scrolled": false
   },
   "outputs": [
    {
     "data": {
      "text/html": [
       "<div>\n",
       "<style scoped>\n",
       "    .dataframe tbody tr th:only-of-type {\n",
       "        vertical-align: middle;\n",
       "    }\n",
       "\n",
       "    .dataframe tbody tr th {\n",
       "        vertical-align: top;\n",
       "    }\n",
       "\n",
       "    .dataframe thead th {\n",
       "        text-align: right;\n",
       "    }\n",
       "</style>\n",
       "<table border=\"1\" class=\"dataframe\">\n",
       "  <thead>\n",
       "    <tr style=\"text-align: right;\">\n",
       "      <th></th>\n",
       "      <th>OBJECTID</th>\n",
       "      <th>ID</th>\n",
       "      <th>NAME</th>\n",
       "      <th>ADDRESS</th>\n",
       "      <th>CITY</th>\n",
       "      <th>STATE</th>\n",
       "      <th>ZIP</th>\n",
       "      <th>ZIP4</th>\n",
       "      <th>TELEPHONE</th>\n",
       "      <th>TYPE</th>\n",
       "      <th>...</th>\n",
       "      <th>WEBSITE</th>\n",
       "      <th>STATE_ID</th>\n",
       "      <th>ALT_NAME</th>\n",
       "      <th>ST_FIPS</th>\n",
       "      <th>OWNER</th>\n",
       "      <th>TTL_STAFF</th>\n",
       "      <th>BEDS</th>\n",
       "      <th>TRAUMA</th>\n",
       "      <th>HELIPAD</th>\n",
       "      <th>geometry</th>\n",
       "    </tr>\n",
       "  </thead>\n",
       "  <tbody>\n",
       "    <tr>\n",
       "      <th>139</th>\n",
       "      <td>7140</td>\n",
       "      <td>0015010456</td>\n",
       "      <td>BRONX-LEBANON HOSPITAL CENTER - FULTON DIVISION</td>\n",
       "      <td>1276 FULTON AVE</td>\n",
       "      <td>BRONX</td>\n",
       "      <td>NY</td>\n",
       "      <td>10456</td>\n",
       "      <td>NOT AVAILABLE</td>\n",
       "      <td>(718) 409-7742</td>\n",
       "      <td>GENERAL ACUTE CARE</td>\n",
       "      <td>...</td>\n",
       "      <td>http://www.bronxcare.org</td>\n",
       "      <td>7000001H</td>\n",
       "      <td>NOT AVAILABLE</td>\n",
       "      <td>36</td>\n",
       "      <td>NON-PROFIT</td>\n",
       "      <td>-999</td>\n",
       "      <td>164</td>\n",
       "      <td>NOT AVAILABLE</td>\n",
       "      <td>N</td>\n",
       "      <td>POINT (-73.90406 40.83171)</td>\n",
       "    </tr>\n",
       "    <tr>\n",
       "      <th>142</th>\n",
       "      <td>7143</td>\n",
       "      <td>0017311237</td>\n",
       "      <td>WYCKOFF HEIGHTS MEDICAL CENTER</td>\n",
       "      <td>374 STOCKHOLM ST</td>\n",
       "      <td>BROOKLYN</td>\n",
       "      <td>NY</td>\n",
       "      <td>11237</td>\n",
       "      <td>NOT AVAILABLE</td>\n",
       "      <td>(718) 963-7272</td>\n",
       "      <td>GENERAL ACUTE CARE</td>\n",
       "      <td>...</td>\n",
       "      <td>http://www.wyckoffhospital.org</td>\n",
       "      <td>7001035H</td>\n",
       "      <td>NOT AVAILABLE</td>\n",
       "      <td>36</td>\n",
       "      <td>NON-PROFIT</td>\n",
       "      <td>-999</td>\n",
       "      <td>324</td>\n",
       "      <td>NOT AVAILABLE</td>\n",
       "      <td>N</td>\n",
       "      <td>POINT (-73.91776 40.70396)</td>\n",
       "    </tr>\n",
       "    <tr>\n",
       "      <th>143</th>\n",
       "      <td>7144</td>\n",
       "      <td>0018110021</td>\n",
       "      <td>LENOX HILL HOSPITAL</td>\n",
       "      <td>100 E 77TH ST</td>\n",
       "      <td>NEW YORK</td>\n",
       "      <td>NY</td>\n",
       "      <td>10021</td>\n",
       "      <td>NOT AVAILABLE</td>\n",
       "      <td>(212) 434-2060</td>\n",
       "      <td>GENERAL ACUTE CARE</td>\n",
       "      <td>...</td>\n",
       "      <td>http://www.lenoxhillhospital.org</td>\n",
       "      <td>7002017H</td>\n",
       "      <td>NOT AVAILABLE</td>\n",
       "      <td>36</td>\n",
       "      <td>NON-PROFIT</td>\n",
       "      <td>-999</td>\n",
       "      <td>632</td>\n",
       "      <td>NOT AVAILABLE</td>\n",
       "      <td>N</td>\n",
       "      <td>POINT (-73.96089 40.77370)</td>\n",
       "    </tr>\n",
       "  </tbody>\n",
       "</table>\n",
       "<p>3 rows × 33 columns</p>\n",
       "</div>"
      ],
      "text/plain": [
       "     OBJECTID          ID                                             NAME  \\\n",
       "139      7140  0015010456  BRONX-LEBANON HOSPITAL CENTER - FULTON DIVISION   \n",
       "142      7143  0017311237                   WYCKOFF HEIGHTS MEDICAL CENTER   \n",
       "143      7144  0018110021                              LENOX HILL HOSPITAL   \n",
       "\n",
       "              ADDRESS      CITY STATE    ZIP           ZIP4       TELEPHONE  \\\n",
       "139   1276 FULTON AVE     BRONX    NY  10456  NOT AVAILABLE  (718) 409-7742   \n",
       "142  374 STOCKHOLM ST  BROOKLYN    NY  11237  NOT AVAILABLE  (718) 963-7272   \n",
       "143     100 E 77TH ST  NEW YORK    NY  10021  NOT AVAILABLE  (212) 434-2060   \n",
       "\n",
       "                   TYPE  ...                           WEBSITE  STATE_ID  \\\n",
       "139  GENERAL ACUTE CARE  ...          http://www.bronxcare.org  7000001H   \n",
       "142  GENERAL ACUTE CARE  ...    http://www.wyckoffhospital.org  7001035H   \n",
       "143  GENERAL ACUTE CARE  ...  http://www.lenoxhillhospital.org  7002017H   \n",
       "\n",
       "          ALT_NAME ST_FIPS       OWNER  TTL_STAFF  BEDS         TRAUMA  \\\n",
       "139  NOT AVAILABLE      36  NON-PROFIT       -999   164  NOT AVAILABLE   \n",
       "142  NOT AVAILABLE      36  NON-PROFIT       -999   324  NOT AVAILABLE   \n",
       "143  NOT AVAILABLE      36  NON-PROFIT       -999   632  NOT AVAILABLE   \n",
       "\n",
       "    HELIPAD                    geometry  \n",
       "139       N  POINT (-73.90406 40.83171)  \n",
       "142       N  POINT (-73.91776 40.70396)  \n",
       "143       N  POINT (-73.96089 40.77370)  \n",
       "\n",
       "[3 rows x 33 columns]"
      ]
     },
     "execution_count": 11,
     "metadata": {},
     "output_type": "execute_result"
    }
   ],
   "source": [
    "### your code here \n",
    "nyc_hospitals.head(3)"
   ]
  },
  {
   "cell_type": "code",
   "execution_count": 12,
   "metadata": {
    "scrolled": false
   },
   "outputs": [
    {
     "data": {
      "text/plain": [
       "(80, 33)"
      ]
     },
     "execution_count": 12,
     "metadata": {},
     "output_type": "execute_result"
    }
   ],
   "source": [
    "nyc_hospitals.shape"
   ]
  },
  {
   "cell_type": "code",
   "execution_count": 13,
   "metadata": {
    "scrolled": false
   },
   "outputs": [
    {
     "data": {
      "text/plain": [
       "<pandas.core.groupby.generic.DataFrameGroupBy object at 0x00000235578BD648>"
      ]
     },
     "execution_count": 13,
     "metadata": {},
     "output_type": "execute_result"
    }
   ],
   "source": [
    "nyc_hosp_CITY = nyc_hospitals.groupby('CITY')\n",
    "nyc_hosp_CITY"
   ]
  },
  {
   "cell_type": "code",
   "execution_count": 14,
   "metadata": {},
   "outputs": [
    {
     "data": {
      "text/html": [
       "<div>\n",
       "<style scoped>\n",
       "    .dataframe tbody tr th:only-of-type {\n",
       "        vertical-align: middle;\n",
       "    }\n",
       "\n",
       "    .dataframe tbody tr th {\n",
       "        vertical-align: top;\n",
       "    }\n",
       "\n",
       "    .dataframe thead th {\n",
       "        text-align: right;\n",
       "    }\n",
       "</style>\n",
       "<table border=\"1\" class=\"dataframe\">\n",
       "  <thead>\n",
       "    <tr style=\"text-align: right;\">\n",
       "      <th></th>\n",
       "      <th>OBJECTID</th>\n",
       "      <th>ID</th>\n",
       "      <th>NAME</th>\n",
       "      <th>ADDRESS</th>\n",
       "      <th>CITY</th>\n",
       "      <th>STATE</th>\n",
       "      <th>ZIP</th>\n",
       "      <th>ZIP4</th>\n",
       "      <th>TELEPHONE</th>\n",
       "      <th>TYPE</th>\n",
       "      <th>...</th>\n",
       "      <th>WEBSITE</th>\n",
       "      <th>STATE_ID</th>\n",
       "      <th>ALT_NAME</th>\n",
       "      <th>ST_FIPS</th>\n",
       "      <th>OWNER</th>\n",
       "      <th>TTL_STAFF</th>\n",
       "      <th>BEDS</th>\n",
       "      <th>TRAUMA</th>\n",
       "      <th>HELIPAD</th>\n",
       "      <th>geometry</th>\n",
       "    </tr>\n",
       "  </thead>\n",
       "  <tbody>\n",
       "    <tr>\n",
       "      <th>3949</th>\n",
       "      <td>3369</td>\n",
       "      <td>0115511102</td>\n",
       "      <td>MOUNT SINAI HOSPITAL - MOUNT SINAI HOSPITAL OF...</td>\n",
       "      <td>25-10 30TH AVENUE</td>\n",
       "      <td>LONG ISLAND CITY</td>\n",
       "      <td>NY</td>\n",
       "      <td>11102</td>\n",
       "      <td>NOT AVAILABLE</td>\n",
       "      <td>(718) 932-1000</td>\n",
       "      <td>GENERAL ACUTE CARE</td>\n",
       "      <td>...</td>\n",
       "      <td>http://www.mshq.org/</td>\n",
       "      <td>7003015H</td>\n",
       "      <td>NOT AVAILABLE</td>\n",
       "      <td>36</td>\n",
       "      <td>NOT AVAILABLE</td>\n",
       "      <td>-999</td>\n",
       "      <td>228</td>\n",
       "      <td>NOT AVAILABLE</td>\n",
       "      <td>N</td>\n",
       "      <td>POINT (-73.92488 40.76830)</td>\n",
       "    </tr>\n",
       "  </tbody>\n",
       "</table>\n",
       "<p>1 rows × 33 columns</p>\n",
       "</div>"
      ],
      "text/plain": [
       "      OBJECTID          ID                                               NAME  \\\n",
       "3949      3369  0115511102  MOUNT SINAI HOSPITAL - MOUNT SINAI HOSPITAL OF...   \n",
       "\n",
       "                ADDRESS              CITY STATE    ZIP           ZIP4  \\\n",
       "3949  25-10 30TH AVENUE  LONG ISLAND CITY    NY  11102  NOT AVAILABLE   \n",
       "\n",
       "           TELEPHONE                TYPE  ...               WEBSITE  STATE_ID  \\\n",
       "3949  (718) 932-1000  GENERAL ACUTE CARE  ...  http://www.mshq.org/  7003015H   \n",
       "\n",
       "           ALT_NAME ST_FIPS          OWNER  TTL_STAFF  BEDS         TRAUMA  \\\n",
       "3949  NOT AVAILABLE      36  NOT AVAILABLE       -999   228  NOT AVAILABLE   \n",
       "\n",
       "     HELIPAD                    geometry  \n",
       "3949       N  POINT (-73.92488 40.76830)  \n",
       "\n",
       "[1 rows x 33 columns]"
      ]
     },
     "execution_count": 14,
     "metadata": {},
     "output_type": "execute_result"
    }
   ],
   "source": [
    "nyc_hosp_CITY.get_group('LONG ISLAND CITY')"
   ]
  },
  {
   "cell_type": "markdown",
   "metadata": {},
   "source": [
    "#### You've been supplied code to reclass -999 Missing Values to Null \n",
    "\n",
    "Run the code block below:"
   ]
  },
  {
   "cell_type": "code",
   "execution_count": 15,
   "metadata": {},
   "outputs": [
    {
     "name": "stderr",
     "output_type": "stream",
     "text": [
      "C:\\Users\\dun4g\\anaconda3\\envs\\GIS\\lib\\site-packages\\ipykernel_launcher.py:4: SettingWithCopyWarning: \n",
      "A value is trying to be set on a copy of a slice from a DataFrame.\n",
      "Try using .loc[row_indexer,col_indexer] = value instead\n",
      "\n",
      "See the caveats in the documentation: https://pandas.pydata.org/pandas-docs/stable/user_guide/indexing.html#returning-a-view-versus-a-copy\n",
      "  after removing the cwd from sys.path.\n"
     ]
    }
   ],
   "source": [
    "nyc_hospitals['BEDS'] = np.where(\n",
    "    nyc_hospitals['BEDS'] == -999,\n",
    "    np.nan,  \n",
    "    nyc_hospitals['BEDS']\n",
    ")  # run this code as-is, you may get a warning in pink, ignore. "
   ]
  },
  {
   "cell_type": "markdown",
   "metadata": {},
   "source": [
    "#### Plot the Distribution of NYC Hospital Beds in a Histogram Plot\n"
   ]
  },
  {
   "cell_type": "code",
   "execution_count": 16,
   "metadata": {},
   "outputs": [
    {
     "data": {
      "image/png": "[encoded data removed]",
      "text/plain": [
       "<Figure size 720x576 with 1 Axes>"
      ]
     },
     "metadata": {},
     "output_type": "display_data"
    }
   ],
   "source": [
    "plt.figure(figsize=(10, 8))\n",
    "# leave the above code as-is, this sets the size of your figure. \n",
    "\n",
    "# nyc_hospitals['BEDS'].plot(kind='hist')\n",
    "nyc_hospitals['BEDS'].hist()\n",
    "\n",
    "# enter your code below, plot a Histogram\n",
    "\n",
    "# leave this code here, this adds a title to your plot:\n",
    "plt.title('NYC Hospital Bed Count Distribution');"
   ]
  },
  {
   "cell_type": "markdown",
   "metadata": {},
   "source": [
    "#### Do a quick GeoDataFrame Map  `.plot()` to see our the spatial distribution of our data\n",
    "\n",
    "For this, please **add argument** `figsize=(10, 10)` inside our `.plot( )` function. "
   ]
  },
  {
   "cell_type": "code",
   "execution_count": 17,
   "metadata": {},
   "outputs": [
    {
     "data": {
      "image/png": "[encoded data removed]",
      "text/plain": [
       "<Figure size 720x720 with 1 Axes>"
      ]
     },
     "metadata": {},
     "output_type": "display_data"
    }
   ],
   "source": [
    "# enter your code below, plot a GeoDataFrame Map, pass figsize=(10, 10) argument\n",
    "# enter your code below, plot a GeoDataFrame Map, pass figsize=(10, 10) argument\n",
    "# enter your code below, plot a GeoDataFrame Map, pass figsize=(10, 10 argument\n",
    "\n",
    "nyc_hospitals.plot(figsize=(10, 10))\n",
    "\n",
    "\n",
    "# leave this code here, this adds a title to your plot:\n",
    "plt.title('NYC Hospitals');"
   ]
  },
  {
   "cell_type": "markdown",
   "metadata": {},
   "source": [
    "#### We'll use our `boro_data` Dictionary from Assignment 01 \n",
    "Run the code block below to define the dictionary `boro_data`. "
   ]
  },
  {
   "cell_type": "code",
   "execution_count": 18,
   "metadata": {},
   "outputs": [],
   "source": [
    "boro_data = {\n",
    "    \"Manhattan\": {\n",
    "        \"COUNTYFIPS\": '36061',\n",
    "        \"boro_code\": '1',\n",
    "        \"boro_population\": 1_628_701,\n",
    "        \"boro_name\": \"Manhattan\",\n",
    "    },\n",
    "    \"Bronx\": {\n",
    "        \"COUNTYFIPS\": '36005',\n",
    "        \"boro_code\": '2',\n",
    "        \"boro_population\": 1_432_132,\n",
    "        \"boro_name\": \"Bronx\",\n",
    "    },\n",
    "    \"Brooklyn\": {\n",
    "        \"COUNTYFIPS\": '36047',\n",
    "        \"boro_code\": '3',\n",
    "        \"boro_population\": 2_582_830,\n",
    "        \"boro_name\": \"Brooklyn\",\n",
    "    },\n",
    "    \"Queens\": {\n",
    "        \"COUNTYFIPS\": '36081',\n",
    "        \"boro_code\": '4',\n",
    "        \"boro_population\": 2_278_906,\n",
    "        \"boro_name\": \"Queens\",\n",
    "    },\n",
    "    \"Staten Island\": {\n",
    "        \"COUNTYFIPS\": '36085',\n",
    "        \"boro_code\": '5',\n",
    "        \"boro_population\": 476_179,\n",
    "        \"boro_name\": \"Staten Island\",\n",
    "    },\n",
    "}"
   ]
  },
  {
   "cell_type": "code",
   "execution_count": 19,
   "metadata": {},
   "outputs": [
    {
     "data": {
      "text/plain": [
       "dict"
      ]
     },
     "execution_count": 19,
     "metadata": {},
     "output_type": "execute_result"
    }
   ],
   "source": [
    "type(boro_data)"
   ]
  },
  {
   "cell_type": "code",
   "execution_count": 20,
   "metadata": {},
   "outputs": [],
   "source": [
    "boro_df = pd.DataFrame(boro_data).T\n",
    "# run this block of code as-is to convert the Dictionary to a DataFrame\n",
    "# note the .T (transpose function), maybe try running with .T commented out\n",
    "# to see the difference, for the boro_df, we need to keep the .T code"
   ]
  },
  {
   "cell_type": "markdown",
   "metadata": {},
   "source": [
    "#### Let's check out `boro_df`"
   ]
  },
  {
   "cell_type": "code",
   "execution_count": 21,
   "metadata": {
    "scrolled": true
   },
   "outputs": [
    {
     "data": {
      "text/html": [
       "<div>\n",
       "<style scoped>\n",
       "    .dataframe tbody tr th:only-of-type {\n",
       "        vertical-align: middle;\n",
       "    }\n",
       "\n",
       "    .dataframe tbody tr th {\n",
       "        vertical-align: top;\n",
       "    }\n",
       "\n",
       "    .dataframe thead th {\n",
       "        text-align: right;\n",
       "    }\n",
       "</style>\n",
       "<table border=\"1\" class=\"dataframe\">\n",
       "  <thead>\n",
       "    <tr style=\"text-align: right;\">\n",
       "      <th></th>\n",
       "      <th>COUNTYFIPS</th>\n",
       "      <th>boro_code</th>\n",
       "      <th>boro_population</th>\n",
       "      <th>boro_name</th>\n",
       "    </tr>\n",
       "  </thead>\n",
       "  <tbody>\n",
       "    <tr>\n",
       "      <th>Manhattan</th>\n",
       "      <td>36061</td>\n",
       "      <td>1</td>\n",
       "      <td>1628701</td>\n",
       "      <td>Manhattan</td>\n",
       "    </tr>\n",
       "    <tr>\n",
       "      <th>Bronx</th>\n",
       "      <td>36005</td>\n",
       "      <td>2</td>\n",
       "      <td>1432132</td>\n",
       "      <td>Bronx</td>\n",
       "    </tr>\n",
       "    <tr>\n",
       "      <th>Brooklyn</th>\n",
       "      <td>36047</td>\n",
       "      <td>3</td>\n",
       "      <td>2582830</td>\n",
       "      <td>Brooklyn</td>\n",
       "    </tr>\n",
       "    <tr>\n",
       "      <th>Queens</th>\n",
       "      <td>36081</td>\n",
       "      <td>4</td>\n",
       "      <td>2278906</td>\n",
       "      <td>Queens</td>\n",
       "    </tr>\n",
       "    <tr>\n",
       "      <th>Staten Island</th>\n",
       "      <td>36085</td>\n",
       "      <td>5</td>\n",
       "      <td>476179</td>\n",
       "      <td>Staten Island</td>\n",
       "    </tr>\n",
       "  </tbody>\n",
       "</table>\n",
       "</div>"
      ],
      "text/plain": [
       "              COUNTYFIPS boro_code boro_population      boro_name\n",
       "Manhattan          36061         1         1628701      Manhattan\n",
       "Bronx              36005         2         1432132          Bronx\n",
       "Brooklyn           36047         3         2582830       Brooklyn\n",
       "Queens             36081         4         2278906         Queens\n",
       "Staten Island      36085         5          476179  Staten Island"
      ]
     },
     "execution_count": 21,
     "metadata": {},
     "output_type": "execute_result"
    }
   ],
   "source": [
    "# your code here\n",
    "# your code here\n",
    "# your code here\n",
    "boro_df"
   ]
  },
  {
   "cell_type": "code",
   "execution_count": 22,
   "metadata": {},
   "outputs": [
    {
     "data": {
      "text/plain": [
       "pandas.core.frame.DataFrame"
      ]
     },
     "execution_count": 22,
     "metadata": {},
     "output_type": "execute_result"
    }
   ],
   "source": [
    "type(boro_df)"
   ]
  },
  {
   "cell_type": "markdown",
   "metadata": {},
   "source": [
    "#### Run a `.merge()` to add the `boro_df` data to the `nyc_hospitals` GeoDataFrame"
   ]
  },
  {
   "cell_type": "code",
   "execution_count": 63,
   "metadata": {},
   "outputs": [],
   "source": [
    "df = pd.merge(\n",
    "    left = nyc_hospitals,   # our hospitals geodataframe\n",
    "    right = boro_df,  # our boro dictionary dataframe variable name\n",
    "    on = 'COUNTYFIPS',  # the common field to merge/join these tables. \n",
    "    how='left',  # left-join, leave this line of code as-is\n",
    "    # enter your code above, \n",
    "    # enter your code above, \n",
    "    # enter your code above, \n",
    ")  "
   ]
  },
  {
   "cell_type": "code",
   "execution_count": 64,
   "metadata": {},
   "outputs": [],
   "source": [
    "df  = df[[\n",
    "    'geometry',\n",
    "    'COUNTYFIPS',\n",
    "    'boro_code',\n",
    "    'boro_name',\n",
    "    'BEDS',\n",
    "    'boro_population',\n",
    "]]  # run this block of code "
   ]
  },
  {
   "cell_type": "markdown",
   "metadata": {},
   "source": [
    "#### Display the first 10 rows of the GeoDataFrame `.head(... hint, n=)`"
   ]
  },
  {
   "cell_type": "code",
   "execution_count": 65,
   "metadata": {},
   "outputs": [
    {
     "data": {
      "text/html": [
       "<div>\n",
       "<style scoped>\n",
       "    .dataframe tbody tr th:only-of-type {\n",
       "        vertical-align: middle;\n",
       "    }\n",
       "\n",
       "    .dataframe tbody tr th {\n",
       "        vertical-align: top;\n",
       "    }\n",
       "\n",
       "    .dataframe thead th {\n",
       "        text-align: right;\n",
       "    }\n",
       "</style>\n",
       "<table border=\"1\" class=\"dataframe\">\n",
       "  <thead>\n",
       "    <tr style=\"text-align: right;\">\n",
       "      <th></th>\n",
       "      <th>geometry</th>\n",
       "      <th>COUNTYFIPS</th>\n",
       "      <th>boro_code</th>\n",
       "      <th>boro_name</th>\n",
       "      <th>BEDS</th>\n",
       "      <th>boro_population</th>\n",
       "    </tr>\n",
       "  </thead>\n",
       "  <tbody>\n",
       "    <tr>\n",
       "      <th>0</th>\n",
       "      <td>POINT (-73.90406 40.83171)</td>\n",
       "      <td>36005</td>\n",
       "      <td>2</td>\n",
       "      <td>Bronx</td>\n",
       "      <td>164.0</td>\n",
       "      <td>1432132</td>\n",
       "    </tr>\n",
       "    <tr>\n",
       "      <th>1</th>\n",
       "      <td>POINT (-73.91776 40.70396)</td>\n",
       "      <td>36047</td>\n",
       "      <td>3</td>\n",
       "      <td>Brooklyn</td>\n",
       "      <td>324.0</td>\n",
       "      <td>2582830</td>\n",
       "    </tr>\n",
       "    <tr>\n",
       "      <th>2</th>\n",
       "      <td>POINT (-73.96089 40.77370)</td>\n",
       "      <td>36061</td>\n",
       "      <td>1</td>\n",
       "      <td>Manhattan</td>\n",
       "      <td>632.0</td>\n",
       "      <td>1628701</td>\n",
       "    </tr>\n",
       "    <tr>\n",
       "      <th>3</th>\n",
       "      <td>POINT (-74.07535 40.62243)</td>\n",
       "      <td>36085</td>\n",
       "      <td>5</td>\n",
       "      <td>Staten Island</td>\n",
       "      <td>25.0</td>\n",
       "      <td>476179</td>\n",
       "    </tr>\n",
       "    <tr>\n",
       "      <th>4</th>\n",
       "      <td>POINT (-73.81647 40.75541)</td>\n",
       "      <td>36081</td>\n",
       "      <td>4</td>\n",
       "      <td>Queens</td>\n",
       "      <td>293.0</td>\n",
       "      <td>2278906</td>\n",
       "    </tr>\n",
       "    <tr>\n",
       "      <th>5</th>\n",
       "      <td>POINT (-73.75355 40.59871)</td>\n",
       "      <td>36081</td>\n",
       "      <td>4</td>\n",
       "      <td>Queens</td>\n",
       "      <td>241.0</td>\n",
       "      <td>2278906</td>\n",
       "    </tr>\n",
       "    <tr>\n",
       "      <th>6</th>\n",
       "      <td>POINT (-73.91115 40.84349)</td>\n",
       "      <td>36005</td>\n",
       "      <td>2</td>\n",
       "      <td>Bronx</td>\n",
       "      <td>415.0</td>\n",
       "      <td>1432132</td>\n",
       "    </tr>\n",
       "    <tr>\n",
       "      <th>7</th>\n",
       "      <td>POINT (-73.91305 40.87328)</td>\n",
       "      <td>36061</td>\n",
       "      <td>1</td>\n",
       "      <td>Manhattan</td>\n",
       "      <td>196.0</td>\n",
       "      <td>1628701</td>\n",
       "    </tr>\n",
       "    <tr>\n",
       "      <th>8</th>\n",
       "      <td>POINT (-73.95462 40.76305)</td>\n",
       "      <td>36061</td>\n",
       "      <td>1</td>\n",
       "      <td>Manhattan</td>\n",
       "      <td>40.0</td>\n",
       "      <td>1628701</td>\n",
       "    </tr>\n",
       "    <tr>\n",
       "      <th>9</th>\n",
       "      <td>POINT (-73.98740 40.76982)</td>\n",
       "      <td>36061</td>\n",
       "      <td>1</td>\n",
       "      <td>Manhattan</td>\n",
       "      <td>514.0</td>\n",
       "      <td>1628701</td>\n",
       "    </tr>\n",
       "  </tbody>\n",
       "</table>\n",
       "</div>"
      ],
      "text/plain": [
       "                     geometry COUNTYFIPS boro_code      boro_name   BEDS  \\\n",
       "0  POINT (-73.90406 40.83171)      36005         2          Bronx  164.0   \n",
       "1  POINT (-73.91776 40.70396)      36047         3       Brooklyn  324.0   \n",
       "2  POINT (-73.96089 40.77370)      36061         1      Manhattan  632.0   \n",
       "3  POINT (-74.07535 40.62243)      36085         5  Staten Island   25.0   \n",
       "4  POINT (-73.81647 40.75541)      36081         4         Queens  293.0   \n",
       "5  POINT (-73.75355 40.59871)      36081         4         Queens  241.0   \n",
       "6  POINT (-73.91115 40.84349)      36005         2          Bronx  415.0   \n",
       "7  POINT (-73.91305 40.87328)      36061         1      Manhattan  196.0   \n",
       "8  POINT (-73.95462 40.76305)      36061         1      Manhattan   40.0   \n",
       "9  POINT (-73.98740 40.76982)      36061         1      Manhattan  514.0   \n",
       "\n",
       "  boro_population  \n",
       "0         1432132  \n",
       "1         2582830  \n",
       "2         1628701  \n",
       "3          476179  \n",
       "4         2278906  \n",
       "5         2278906  \n",
       "6         1432132  \n",
       "7         1628701  \n",
       "8         1628701  \n",
       "9         1628701  "
      ]
     },
     "execution_count": 65,
     "metadata": {},
     "output_type": "execute_result"
    }
   ],
   "source": [
    "# your code here\n",
    "df.head(10)"
   ]
  },
  {
   "cell_type": "markdown",
   "metadata": {},
   "source": [
    "#### Groupby and Sum the BEDS variable\n",
    "\n",
    "Groupby: \n",
    "* boro_name\n",
    "* COUNTYFIPS\t\n",
    "* boro_code\t\n",
    "* boro_population"
   ]
  },
  {
   "cell_type": "code",
   "execution_count": 60,
   "metadata": {
    "scrolled": true
   },
   "outputs": [
    {
     "data": {
      "text/html": [
       "<div>\n",
       "<style scoped>\n",
       "    .dataframe tbody tr th:only-of-type {\n",
       "        vertical-align: middle;\n",
       "    }\n",
       "\n",
       "    .dataframe tbody tr th {\n",
       "        vertical-align: top;\n",
       "    }\n",
       "\n",
       "    .dataframe thead th {\n",
       "        text-align: right;\n",
       "    }\n",
       "</style>\n",
       "<table border=\"1\" class=\"dataframe\">\n",
       "  <thead>\n",
       "    <tr style=\"text-align: right;\">\n",
       "      <th></th>\n",
       "      <th>BEDS</th>\n",
       "    </tr>\n",
       "    <tr>\n",
       "      <th>boro_name</th>\n",
       "      <th></th>\n",
       "    </tr>\n",
       "  </thead>\n",
       "  <tbody>\n",
       "    <tr>\n",
       "      <th>Bronx</th>\n",
       "      <td>3822.0</td>\n",
       "    </tr>\n",
       "    <tr>\n",
       "      <th>Brooklyn</th>\n",
       "      <td>6166.0</td>\n",
       "    </tr>\n",
       "    <tr>\n",
       "      <th>Manhattan</th>\n",
       "      <td>11052.0</td>\n",
       "    </tr>\n",
       "    <tr>\n",
       "      <th>Queens</th>\n",
       "      <td>3734.0</td>\n",
       "    </tr>\n",
       "    <tr>\n",
       "      <th>Staten Island</th>\n",
       "      <td>1187.0</td>\n",
       "    </tr>\n",
       "  </tbody>\n",
       "</table>\n",
       "</div>"
      ],
      "text/plain": [
       "                  BEDS\n",
       "boro_name             \n",
       "Bronx           3822.0\n",
       "Brooklyn        6166.0\n",
       "Manhattan      11052.0\n",
       "Queens          3734.0\n",
       "Staten Island   1187.0"
      ]
     },
     "execution_count": 60,
     "metadata": {},
     "output_type": "execute_result"
    }
   ],
   "source": [
    "# your code here\n",
    "df[['boro_name', 'BEDS']].groupby(\n",
    "    ['boro_name']\n",
    ").sum()"
   ]
  },
  {
   "cell_type": "code",
   "execution_count": 61,
   "metadata": {
    "scrolled": true
   },
   "outputs": [
    {
     "data": {
      "text/html": [
       "<div>\n",
       "<style scoped>\n",
       "    .dataframe tbody tr th:only-of-type {\n",
       "        vertical-align: middle;\n",
       "    }\n",
       "\n",
       "    .dataframe tbody tr th {\n",
       "        vertical-align: top;\n",
       "    }\n",
       "\n",
       "    .dataframe thead th {\n",
       "        text-align: right;\n",
       "    }\n",
       "</style>\n",
       "<table border=\"1\" class=\"dataframe\">\n",
       "  <thead>\n",
       "    <tr style=\"text-align: right;\">\n",
       "      <th></th>\n",
       "      <th>BEDS</th>\n",
       "    </tr>\n",
       "    <tr>\n",
       "      <th>boro_code</th>\n",
       "      <th></th>\n",
       "    </tr>\n",
       "  </thead>\n",
       "  <tbody>\n",
       "    <tr>\n",
       "      <th>1</th>\n",
       "      <td>11052.0</td>\n",
       "    </tr>\n",
       "    <tr>\n",
       "      <th>2</th>\n",
       "      <td>3822.0</td>\n",
       "    </tr>\n",
       "    <tr>\n",
       "      <th>3</th>\n",
       "      <td>6166.0</td>\n",
       "    </tr>\n",
       "    <tr>\n",
       "      <th>4</th>\n",
       "      <td>3734.0</td>\n",
       "    </tr>\n",
       "    <tr>\n",
       "      <th>5</th>\n",
       "      <td>1187.0</td>\n",
       "    </tr>\n",
       "  </tbody>\n",
       "</table>\n",
       "</div>"
      ],
      "text/plain": [
       "              BEDS\n",
       "boro_code         \n",
       "1          11052.0\n",
       "2           3822.0\n",
       "3           6166.0\n",
       "4           3734.0\n",
       "5           1187.0"
      ]
     },
     "execution_count": 61,
     "metadata": {},
     "output_type": "execute_result"
    }
   ],
   "source": [
    "df[['boro_code', 'BEDS']].groupby(\n",
    "    ['boro_code']\n",
    ").sum()"
   ]
  },
  {
   "cell_type": "code",
   "execution_count": 66,
   "metadata": {
    "scrolled": true
   },
   "outputs": [
    {
     "data": {
      "text/html": [
       "<div>\n",
       "<style scoped>\n",
       "    .dataframe tbody tr th:only-of-type {\n",
       "        vertical-align: middle;\n",
       "    }\n",
       "\n",
       "    .dataframe tbody tr th {\n",
       "        vertical-align: top;\n",
       "    }\n",
       "\n",
       "    .dataframe thead th {\n",
       "        text-align: right;\n",
       "    }\n",
       "</style>\n",
       "<table border=\"1\" class=\"dataframe\">\n",
       "  <thead>\n",
       "    <tr style=\"text-align: right;\">\n",
       "      <th></th>\n",
       "      <th></th>\n",
       "      <th></th>\n",
       "      <th></th>\n",
       "      <th>BEDS</th>\n",
       "    </tr>\n",
       "    <tr>\n",
       "      <th>boro_name</th>\n",
       "      <th>COUNTYFIPS</th>\n",
       "      <th>boro_code</th>\n",
       "      <th>boro_population</th>\n",
       "      <th></th>\n",
       "    </tr>\n",
       "  </thead>\n",
       "  <tbody>\n",
       "    <tr>\n",
       "      <th>Bronx</th>\n",
       "      <th>36005</th>\n",
       "      <th>2</th>\n",
       "      <th>1432132</th>\n",
       "      <td>3822.0</td>\n",
       "    </tr>\n",
       "    <tr>\n",
       "      <th>Brooklyn</th>\n",
       "      <th>36047</th>\n",
       "      <th>3</th>\n",
       "      <th>2582830</th>\n",
       "      <td>6166.0</td>\n",
       "    </tr>\n",
       "    <tr>\n",
       "      <th>Manhattan</th>\n",
       "      <th>36061</th>\n",
       "      <th>1</th>\n",
       "      <th>1628701</th>\n",
       "      <td>11052.0</td>\n",
       "    </tr>\n",
       "    <tr>\n",
       "      <th>Queens</th>\n",
       "      <th>36081</th>\n",
       "      <th>4</th>\n",
       "      <th>2278906</th>\n",
       "      <td>3734.0</td>\n",
       "    </tr>\n",
       "    <tr>\n",
       "      <th>Staten Island</th>\n",
       "      <th>36085</th>\n",
       "      <th>5</th>\n",
       "      <th>476179</th>\n",
       "      <td>1187.0</td>\n",
       "    </tr>\n",
       "  </tbody>\n",
       "</table>\n",
       "</div>"
      ],
      "text/plain": [
       "                                                       BEDS\n",
       "boro_name     COUNTYFIPS boro_code boro_population         \n",
       "Bronx         36005      2         1432132           3822.0\n",
       "Brooklyn      36047      3         2582830           6166.0\n",
       "Manhattan     36061      1         1628701          11052.0\n",
       "Queens        36081      4         2278906           3734.0\n",
       "Staten Island 36085      5         476179            1187.0"
      ]
     },
     "execution_count": 66,
     "metadata": {},
     "output_type": "execute_result"
    }
   ],
   "source": [
    "grouped = df.groupby(['boro_name', 'COUNTYFIPS', 'boro_code', 'boro_population']).sum()\n",
    "grouped"
   ]
  },
  {
   "cell_type": "code",
   "execution_count": 47,
   "metadata": {},
   "outputs": [
    {
     "data": {
      "text/plain": [
       "pandas.core.frame.DataFrame"
      ]
     },
     "execution_count": 47,
     "metadata": {},
     "output_type": "execute_result"
    }
   ],
   "source": [
    "type(grouped)"
   ]
  },
  {
   "cell_type": "markdown",
   "metadata": {},
   "source": [
    "#### Display the `.head()` of `grouped`"
   ]
  },
  {
   "cell_type": "code",
   "execution_count": 67,
   "metadata": {},
   "outputs": [
    {
     "data": {
      "text/html": [
       "<div>\n",
       "<style scoped>\n",
       "    .dataframe tbody tr th:only-of-type {\n",
       "        vertical-align: middle;\n",
       "    }\n",
       "\n",
       "    .dataframe tbody tr th {\n",
       "        vertical-align: top;\n",
       "    }\n",
       "\n",
       "    .dataframe thead th {\n",
       "        text-align: right;\n",
       "    }\n",
       "</style>\n",
       "<table border=\"1\" class=\"dataframe\">\n",
       "  <thead>\n",
       "    <tr style=\"text-align: right;\">\n",
       "      <th></th>\n",
       "      <th></th>\n",
       "      <th></th>\n",
       "      <th></th>\n",
       "      <th>BEDS</th>\n",
       "    </tr>\n",
       "    <tr>\n",
       "      <th>boro_name</th>\n",
       "      <th>COUNTYFIPS</th>\n",
       "      <th>boro_code</th>\n",
       "      <th>boro_population</th>\n",
       "      <th></th>\n",
       "    </tr>\n",
       "  </thead>\n",
       "  <tbody>\n",
       "    <tr>\n",
       "      <th>Bronx</th>\n",
       "      <th>36005</th>\n",
       "      <th>2</th>\n",
       "      <th>1432132</th>\n",
       "      <td>3822.0</td>\n",
       "    </tr>\n",
       "    <tr>\n",
       "      <th>Brooklyn</th>\n",
       "      <th>36047</th>\n",
       "      <th>3</th>\n",
       "      <th>2582830</th>\n",
       "      <td>6166.0</td>\n",
       "    </tr>\n",
       "    <tr>\n",
       "      <th>Manhattan</th>\n",
       "      <th>36061</th>\n",
       "      <th>1</th>\n",
       "      <th>1628701</th>\n",
       "      <td>11052.0</td>\n",
       "    </tr>\n",
       "    <tr>\n",
       "      <th>Queens</th>\n",
       "      <th>36081</th>\n",
       "      <th>4</th>\n",
       "      <th>2278906</th>\n",
       "      <td>3734.0</td>\n",
       "    </tr>\n",
       "    <tr>\n",
       "      <th>Staten Island</th>\n",
       "      <th>36085</th>\n",
       "      <th>5</th>\n",
       "      <th>476179</th>\n",
       "      <td>1187.0</td>\n",
       "    </tr>\n",
       "  </tbody>\n",
       "</table>\n",
       "</div>"
      ],
      "text/plain": [
       "                                                       BEDS\n",
       "boro_name     COUNTYFIPS boro_code boro_population         \n",
       "Bronx         36005      2         1432132           3822.0\n",
       "Brooklyn      36047      3         2582830           6166.0\n",
       "Manhattan     36061      1         1628701          11052.0\n",
       "Queens        36081      4         2278906           3734.0\n",
       "Staten Island 36085      5         476179            1187.0"
      ]
     },
     "execution_count": 67,
     "metadata": {},
     "output_type": "execute_result"
    }
   ],
   "source": [
    "# enter your code below, disply the .head()\n",
    "\n",
    "grouped.head()"
   ]
  },
  {
   "cell_type": "markdown",
   "metadata": {},
   "source": [
    "#### Create a new column called `boro_pop_per_hosp_bed`. \n",
    "\n",
    "Remember from Lesson 04 where we generate the `df['BEDS_newcol'] = ` code. \n",
    "\n",
    "#### This column will be the Calculation of Population / Beds  ( / meaning divided by)"
   ]
  },
  {
   "cell_type": "code",
   "execution_count": 68,
   "metadata": {},
   "outputs": [
    {
     "ename": "KeyError",
     "evalue": "'boro_population'",
     "output_type": "error",
     "traceback": [
      "\u001b[1;31m---------------------------------------------------------------------------\u001b[0m",
      "\u001b[1;31mKeyError\u001b[0m                                  Traceback (most recent call last)",
      "\u001b[1;32m~\\anaconda3\\envs\\GIS\\lib\\site-packages\\pandas\\core\\indexes\\base.py\u001b[0m in \u001b[0;36mget_loc\u001b[1;34m(self, key, method, tolerance)\u001b[0m\n\u001b[0;32m   2645\u001b[0m             \u001b[1;32mtry\u001b[0m\u001b[1;33m:\u001b[0m\u001b[1;33m\u001b[0m\u001b[1;33m\u001b[0m\u001b[0m\n\u001b[1;32m-> 2646\u001b[1;33m                 \u001b[1;32mreturn\u001b[0m \u001b[0mself\u001b[0m\u001b[1;33m.\u001b[0m\u001b[0m_engine\u001b[0m\u001b[1;33m.\u001b[0m\u001b[0mget_loc\u001b[0m\u001b[1;33m(\u001b[0m\u001b[0mkey\u001b[0m\u001b[1;33m)\u001b[0m\u001b[1;33m\u001b[0m\u001b[1;33m\u001b[0m\u001b[0m\n\u001b[0m\u001b[0;32m   2647\u001b[0m             \u001b[1;32mexcept\u001b[0m \u001b[0mKeyError\u001b[0m\u001b[1;33m:\u001b[0m\u001b[1;33m\u001b[0m\u001b[1;33m\u001b[0m\u001b[0m\n",
      "\u001b[1;32mpandas\\_libs\\index.pyx\u001b[0m in \u001b[0;36mpandas._libs.index.IndexEngine.get_loc\u001b[1;34m()\u001b[0m\n",
      "\u001b[1;32mpandas\\_libs\\index.pyx\u001b[0m in \u001b[0;36mpandas._libs.index.IndexEngine.get_loc\u001b[1;34m()\u001b[0m\n",
      "\u001b[1;32mpandas\\_libs\\hashtable_class_helper.pxi\u001b[0m in \u001b[0;36mpandas._libs.hashtable.PyObjectHashTable.get_item\u001b[1;34m()\u001b[0m\n",
      "\u001b[1;32mpandas\\_libs\\hashtable_class_helper.pxi\u001b[0m in \u001b[0;36mpandas._libs.hashtable.PyObjectHashTable.get_item\u001b[1;34m()\u001b[0m\n",
      "\u001b[1;31mKeyError\u001b[0m: 'boro_population'",
      "\nDuring handling of the above exception, another exception occurred:\n",
      "\u001b[1;31mKeyError\u001b[0m                                  Traceback (most recent call last)",
      "\u001b[1;32m<ipython-input-68-8e0126eb48d9>\u001b[0m in \u001b[0;36m<module>\u001b[1;34m\u001b[0m\n\u001b[0;32m      1\u001b[0m \u001b[1;31m# your code here\u001b[0m\u001b[1;33m\u001b[0m\u001b[1;33m\u001b[0m\u001b[1;33m\u001b[0m\u001b[0m\n\u001b[1;32m----> 2\u001b[1;33m \u001b[0mgrouped\u001b[0m\u001b[1;33m[\u001b[0m\u001b[1;34m'boro_pop_per_hosp_bed'\u001b[0m\u001b[1;33m]\u001b[0m \u001b[1;33m=\u001b[0m \u001b[1;33m(\u001b[0m\u001b[0mgrouped\u001b[0m\u001b[1;33m[\u001b[0m\u001b[1;34m'boro_population'\u001b[0m\u001b[1;33m]\u001b[0m \u001b[1;33m/\u001b[0m \u001b[0mgrouped\u001b[0m\u001b[1;33m[\u001b[0m\u001b[1;34m'BEDS'\u001b[0m\u001b[1;33m]\u001b[0m\u001b[1;33m)\u001b[0m\u001b[1;33m\u001b[0m\u001b[1;33m\u001b[0m\u001b[0m\n\u001b[0m",
      "\u001b[1;32m~\\anaconda3\\envs\\GIS\\lib\\site-packages\\pandas\\core\\frame.py\u001b[0m in \u001b[0;36m__getitem__\u001b[1;34m(self, key)\u001b[0m\n\u001b[0;32m   2798\u001b[0m             \u001b[1;32mif\u001b[0m \u001b[0mself\u001b[0m\u001b[1;33m.\u001b[0m\u001b[0mcolumns\u001b[0m\u001b[1;33m.\u001b[0m\u001b[0mnlevels\u001b[0m \u001b[1;33m>\u001b[0m \u001b[1;36m1\u001b[0m\u001b[1;33m:\u001b[0m\u001b[1;33m\u001b[0m\u001b[1;33m\u001b[0m\u001b[0m\n\u001b[0;32m   2799\u001b[0m                 \u001b[1;32mreturn\u001b[0m \u001b[0mself\u001b[0m\u001b[1;33m.\u001b[0m\u001b[0m_getitem_multilevel\u001b[0m\u001b[1;33m(\u001b[0m\u001b[0mkey\u001b[0m\u001b[1;33m)\u001b[0m\u001b[1;33m\u001b[0m\u001b[1;33m\u001b[0m\u001b[0m\n\u001b[1;32m-> 2800\u001b[1;33m             \u001b[0mindexer\u001b[0m \u001b[1;33m=\u001b[0m \u001b[0mself\u001b[0m\u001b[1;33m.\u001b[0m\u001b[0mcolumns\u001b[0m\u001b[1;33m.\u001b[0m\u001b[0mget_loc\u001b[0m\u001b[1;33m(\u001b[0m\u001b[0mkey\u001b[0m\u001b[1;33m)\u001b[0m\u001b[1;33m\u001b[0m\u001b[1;33m\u001b[0m\u001b[0m\n\u001b[0m\u001b[0;32m   2801\u001b[0m             \u001b[1;32mif\u001b[0m \u001b[0mis_integer\u001b[0m\u001b[1;33m(\u001b[0m\u001b[0mindexer\u001b[0m\u001b[1;33m)\u001b[0m\u001b[1;33m:\u001b[0m\u001b[1;33m\u001b[0m\u001b[1;33m\u001b[0m\u001b[0m\n\u001b[0;32m   2802\u001b[0m                 \u001b[0mindexer\u001b[0m \u001b[1;33m=\u001b[0m \u001b[1;33m[\u001b[0m\u001b[0mindexer\u001b[0m\u001b[1;33m]\u001b[0m\u001b[1;33m\u001b[0m\u001b[1;33m\u001b[0m\u001b[0m\n",
      "\u001b[1;32m~\\anaconda3\\envs\\GIS\\lib\\site-packages\\pandas\\core\\indexes\\base.py\u001b[0m in \u001b[0;36mget_loc\u001b[1;34m(self, key, method, tolerance)\u001b[0m\n\u001b[0;32m   2646\u001b[0m                 \u001b[1;32mreturn\u001b[0m \u001b[0mself\u001b[0m\u001b[1;33m.\u001b[0m\u001b[0m_engine\u001b[0m\u001b[1;33m.\u001b[0m\u001b[0mget_loc\u001b[0m\u001b[1;33m(\u001b[0m\u001b[0mkey\u001b[0m\u001b[1;33m)\u001b[0m\u001b[1;33m\u001b[0m\u001b[1;33m\u001b[0m\u001b[0m\n\u001b[0;32m   2647\u001b[0m             \u001b[1;32mexcept\u001b[0m \u001b[0mKeyError\u001b[0m\u001b[1;33m:\u001b[0m\u001b[1;33m\u001b[0m\u001b[1;33m\u001b[0m\u001b[0m\n\u001b[1;32m-> 2648\u001b[1;33m                 \u001b[1;32mreturn\u001b[0m \u001b[0mself\u001b[0m\u001b[1;33m.\u001b[0m\u001b[0m_engine\u001b[0m\u001b[1;33m.\u001b[0m\u001b[0mget_loc\u001b[0m\u001b[1;33m(\u001b[0m\u001b[0mself\u001b[0m\u001b[1;33m.\u001b[0m\u001b[0m_maybe_cast_indexer\u001b[0m\u001b[1;33m(\u001b[0m\u001b[0mkey\u001b[0m\u001b[1;33m)\u001b[0m\u001b[1;33m)\u001b[0m\u001b[1;33m\u001b[0m\u001b[1;33m\u001b[0m\u001b[0m\n\u001b[0m\u001b[0;32m   2649\u001b[0m         \u001b[0mindexer\u001b[0m \u001b[1;33m=\u001b[0m \u001b[0mself\u001b[0m\u001b[1;33m.\u001b[0m\u001b[0mget_indexer\u001b[0m\u001b[1;33m(\u001b[0m\u001b[1;33m[\u001b[0m\u001b[0mkey\u001b[0m\u001b[1;33m]\u001b[0m\u001b[1;33m,\u001b[0m \u001b[0mmethod\u001b[0m\u001b[1;33m=\u001b[0m\u001b[0mmethod\u001b[0m\u001b[1;33m,\u001b[0m \u001b[0mtolerance\u001b[0m\u001b[1;33m=\u001b[0m\u001b[0mtolerance\u001b[0m\u001b[1;33m)\u001b[0m\u001b[1;33m\u001b[0m\u001b[1;33m\u001b[0m\u001b[0m\n\u001b[0;32m   2650\u001b[0m         \u001b[1;32mif\u001b[0m \u001b[0mindexer\u001b[0m\u001b[1;33m.\u001b[0m\u001b[0mndim\u001b[0m \u001b[1;33m>\u001b[0m \u001b[1;36m1\u001b[0m \u001b[1;32mor\u001b[0m \u001b[0mindexer\u001b[0m\u001b[1;33m.\u001b[0m\u001b[0msize\u001b[0m \u001b[1;33m>\u001b[0m \u001b[1;36m1\u001b[0m\u001b[1;33m:\u001b[0m\u001b[1;33m\u001b[0m\u001b[1;33m\u001b[0m\u001b[0m\n",
      "\u001b[1;32mpandas\\_libs\\index.pyx\u001b[0m in \u001b[0;36mpandas._libs.index.IndexEngine.get_loc\u001b[1;34m()\u001b[0m\n",
      "\u001b[1;32mpandas\\_libs\\index.pyx\u001b[0m in \u001b[0;36mpandas._libs.index.IndexEngine.get_loc\u001b[1;34m()\u001b[0m\n",
      "\u001b[1;32mpandas\\_libs\\hashtable_class_helper.pxi\u001b[0m in \u001b[0;36mpandas._libs.hashtable.PyObjectHashTable.get_item\u001b[1;34m()\u001b[0m\n",
      "\u001b[1;32mpandas\\_libs\\hashtable_class_helper.pxi\u001b[0m in \u001b[0;36mpandas._libs.hashtable.PyObjectHashTable.get_item\u001b[1;34m()\u001b[0m\n",
      "\u001b[1;31mKeyError\u001b[0m: 'boro_population'"
     ]
    }
   ],
   "source": [
    "# your code here\n",
    "grouped['boro_pop_per_hosp_bed'] = (grouped['boro_population'] / grouped['BEDS'])"
   ]
  },
  {
   "cell_type": "markdown",
   "metadata": {},
   "source": [
    "#### Display the `.head()` of `grouped` DataFrame to check our results"
   ]
  },
  {
   "cell_type": "code",
   "execution_count": 55,
   "metadata": {},
   "outputs": [
    {
     "data": {
      "text/html": [
       "<div>\n",
       "<style scoped>\n",
       "    .dataframe tbody tr th:only-of-type {\n",
       "        vertical-align: middle;\n",
       "    }\n",
       "\n",
       "    .dataframe tbody tr th {\n",
       "        vertical-align: top;\n",
       "    }\n",
       "\n",
       "    .dataframe thead th {\n",
       "        text-align: right;\n",
       "    }\n",
       "</style>\n",
       "<table border=\"1\" class=\"dataframe\">\n",
       "  <thead>\n",
       "    <tr style=\"text-align: right;\">\n",
       "      <th></th>\n",
       "      <th></th>\n",
       "      <th></th>\n",
       "      <th></th>\n",
       "      <th>BEDS</th>\n",
       "    </tr>\n",
       "    <tr>\n",
       "      <th>boro_name</th>\n",
       "      <th>COUNTYFIPS</th>\n",
       "      <th>boro_code</th>\n",
       "      <th>boro_population</th>\n",
       "      <th></th>\n",
       "    </tr>\n",
       "  </thead>\n",
       "  <tbody>\n",
       "    <tr>\n",
       "      <th>Bronx</th>\n",
       "      <th>36005</th>\n",
       "      <th>2</th>\n",
       "      <th>1432132</th>\n",
       "      <td>3822.0</td>\n",
       "    </tr>\n",
       "    <tr>\n",
       "      <th>Brooklyn</th>\n",
       "      <th>36047</th>\n",
       "      <th>3</th>\n",
       "      <th>2582830</th>\n",
       "      <td>6166.0</td>\n",
       "    </tr>\n",
       "    <tr>\n",
       "      <th>Manhattan</th>\n",
       "      <th>36061</th>\n",
       "      <th>1</th>\n",
       "      <th>1628701</th>\n",
       "      <td>11052.0</td>\n",
       "    </tr>\n",
       "    <tr>\n",
       "      <th>Queens</th>\n",
       "      <th>36081</th>\n",
       "      <th>4</th>\n",
       "      <th>2278906</th>\n",
       "      <td>3734.0</td>\n",
       "    </tr>\n",
       "    <tr>\n",
       "      <th>Staten Island</th>\n",
       "      <th>36085</th>\n",
       "      <th>5</th>\n",
       "      <th>476179</th>\n",
       "      <td>1187.0</td>\n",
       "    </tr>\n",
       "  </tbody>\n",
       "</table>\n",
       "</div>"
      ],
      "text/plain": [
       "                                                       BEDS\n",
       "boro_name     COUNTYFIPS boro_code boro_population         \n",
       "Bronx         36005      2         1432132           3822.0\n",
       "Brooklyn      36047      3         2582830           6166.0\n",
       "Manhattan     36061      1         1628701          11052.0\n",
       "Queens        36081      4         2278906           3734.0\n",
       "Staten Island 36085      5         476179            1187.0"
      ]
     },
     "execution_count": 55,
     "metadata": {},
     "output_type": "execute_result"
    }
   ],
   "source": [
    "# your code here\n",
    "grouped.head()"
   ]
  },
  {
   "cell_type": "markdown",
   "metadata": {},
   "source": [
    "#### Plot a bar chart showing Borough Population per Hospital Bed"
   ]
  },
  {
   "cell_type": "code",
   "execution_count": 17,
   "metadata": {},
   "outputs": [],
   "source": [
    "plt.figure(figsize=(10, 8))\n",
    "\n",
    "plt.bar(\n",
    "    grouped['boro_name'],\n",
    "    grouped['boro_pop_per_hosp_bed'],\n",
    ");\n",
    "\n",
    "# leave the above code as-is, this sets the size of your figure. \n",
    "\n",
    "\n",
    "# Add your own Title string below;\n",
    "# Add your own Title string below;\n",
    "# Add your own Title string below;\n",
    "\n",
    "plt.title('ADD YOUR TITLE STRING HERE');"
   ]
  },
  {
   "cell_type": "markdown",
   "metadata": {},
   "source": [
    "# Map our Final Results"
   ]
  },
  {
   "cell_type": "code",
   "execution_count": 24,
   "metadata": {},
   "outputs": [],
   "source": [
    "boro_geojson_link = 'https://data.cityofnewyork.us/api/geospatial/tqmj-j8zm?method=export&format=GeoJSON'"
   ]
  },
  {
   "cell_type": "markdown",
   "metadata": {},
   "source": [
    "#### Read in `boro_geojso_link` as GeoDataFrame called `boro`"
   ]
  },
  {
   "cell_type": "code",
   "execution_count": 18,
   "metadata": {},
   "outputs": [],
   "source": [
    "# your code here\n",
    "# your code here\n",
    "# your code here"
   ]
  },
  {
   "cell_type": "code",
   "execution_count": 19,
   "metadata": {},
   "outputs": [],
   "source": [
    "boro.plot();\n",
    "# run this code as-is"
   ]
  },
  {
   "cell_type": "markdown",
   "metadata": {},
   "source": [
    "#### Merge `boro` to `grouped` on `boro_code` with a 'left' as `how=`"
   ]
  },
  {
   "cell_type": "code",
   "execution_count": 28,
   "metadata": {},
   "outputs": [],
   "source": [
    "boro_joined = pd.merge(\n",
    "    left=<your code>,      # our `boro` geodataframe\n",
    "    right=<your code>,  # our `grouped` bed count sums\n",
    "    on=<your code>, # the common id to join grouped to boro\n",
    "    how=<your code>,     # join on 'left'\n",
    ")"
   ]
  },
  {
   "cell_type": "code",
   "execution_count": 20,
   "metadata": {},
   "outputs": [],
   "source": [
    "boro_joined\n",
    "# run cell as is"
   ]
  },
  {
   "cell_type": "code",
   "execution_count": 21,
   "metadata": {},
   "outputs": [],
   "source": [
    "# # run cell as-is\n",
    "# # run cell as-is\n",
    "# # run cell as-is\n",
    "fig, ax = plt.subplots(figsize=(12, 12))\n",
    "\n",
    "boro_joined.to_crs(epsg=2263).plot(\n",
    "    column='boro_pop_per_hosp_bed', \n",
    "    cmap='OrRd',\n",
    "    edgecolor='darkgray',\n",
    "    linewidth=0.8,\n",
    "    scheme='quantiles',\n",
    "    ax=ax,\n",
    "    legend=True,\n",
    "    legend_kwds={\n",
    "        'title': 'Population per Hospital Bed',\n",
    "        'loc': 'upper left',\n",
    "        'shadow': True,\n",
    "        'facecolor': 'white',\n",
    "    },\n",
    ")\n",
    "\n",
    "ax.xaxis.set_ticklabels([])\n",
    "ax.yaxis.set_ticklabels([])\n",
    "\n",
    "plt.title('Borough Population per Hospital Bed')\n",
    "\n",
    "plt.savefig('img/borough_pop_per_hosp_bed.png')\n",
    "plt.show();"
   ]
  },
  {
   "cell_type": "code",
   "execution_count": 87,
   "metadata": {},
   "outputs": [],
   "source": [
    "# Note, I'd probably spend a little more time on the legend labels. \n",
    "# Also, would probably get rid of the ggplot background and tick's. \n",
    "# Plotting in Python, requires a lot of code. "
   ]
  }
 ],
 "metadata": {
  "kernelspec": {
   "display_name": "Python 3",
   "language": "python",
   "name": "python3"
  },
  "language_info": {
   "codemirror_mode": {
    "name": "ipython",
    "version": 3
   },
   "file_extension": ".py",
   "mimetype": "text/x-python",
   "name": "python",
   "nbconvert_exporter": "python",
   "pygments_lexer": "ipython3",
   "version": "3.7.7"
  },
  "toc": {
   "base_numbering": 1,
   "nav_menu": {},
   "number_sections": false,
   "sideBar": true,
   "skip_h1_title": false,
   "title_cell": "Table of Contents",
   "title_sidebar": "Contents",
   "toc_cell": true,
   "toc_position": {},
   "toc_section_display": true,
   "toc_window_display": true
  }
 },
 "nbformat": 4,
 "nbformat_minor": 2
}
